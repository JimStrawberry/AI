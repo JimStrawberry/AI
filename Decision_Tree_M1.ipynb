{
  "nbformat": 4,
  "nbformat_minor": 0,
  "metadata": {
    "colab": {
      "provenance": [],
      "authorship_tag": "ABX9TyN0RMEIcenftw4TkMkERA2j",
      "include_colab_link": true
    },
    "kernelspec": {
      "name": "python3",
      "display_name": "Python 3"
    },
    "language_info": {
      "name": "python"
    }
  },
  "cells": [
    {
      "cell_type": "markdown",
      "metadata": {
        "id": "view-in-github",
        "colab_type": "text"
      },
      "source": [
        "<a href=\"https://colab.research.google.com/github/JimStrawberry/AI/blob/master/Decision_Tree_M1.ipynb\" target=\"_parent\"><img src=\"https://colab.research.google.com/assets/colab-badge.svg\" alt=\"Open In Colab\"/></a>"
      ]
    },
    {
      "cell_type": "code",
      "execution_count": 1,
      "metadata": {
        "id": "5IizxncBI4tD"
      },
      "outputs": [],
      "source": [
        "from matplotlib.font_manager import FontProperties\n",
        "import matplotlib.pyplot as plt\n",
        "from math import log\n",
        "import operator\n",
        "import pickle\n",
        "import numpy as np"
      ]
    },
    {
      "cell_type": "code",
      "source": [
        "def createDataSet():\n",
        "  dataSet = [[0, 0, 0, 0, 'no'],\n",
        "        [0, 0, 0, 1, 'no'],\n",
        "        [0, 1, 0, 1, 'yes'],\n",
        "        [0, 1, 1, 0, 'yes'],\n",
        "        [0, 0, 0, 0, 'no'],\n",
        "        [1, 0, 0, 0, 'no'],\n",
        "        [1, 0, 0, 1, 'no'],\n",
        "        [1, 1, 1, 1, 'yes'],\n",
        "        [1, 0, 1, 2, 'yes'],\n",
        "        [1, 0, 1, 2, 'yes'],\n",
        "        [2, 0, 1, 2, 'yes'],\n",
        "        [2, 0, 1, 1, 'yes'],\n",
        "        [2, 1, 0, 1, 'yes'],\n",
        "        [2, 1, 0, 2, 'yes'],\n",
        "        [2, 0, 0, 0, 'no']]\n",
        "  labels = ['F1-AGE', 'F2-WORK', 'F3-HOME', 'F4-LOAN']\n",
        "  return dataSet, labels"
      ],
      "metadata": {
        "id": "tISTvX8EJY3e"
      },
      "execution_count": 2,
      "outputs": []
    },
    {
      "cell_type": "code",
      "source": [
        "def createTree(dataSet, labels, featLabels): # featLabels：the order of features after building the tree\n",
        "  classList = [example[-1] for example in dataSet]\n",
        "  if classList.count(classList[0]) == len(classList): # determine whether all the values are same\n",
        "    return classList[0]\n",
        "  if len(dataSet[0]) == 1: # determine whether it is the last feature\n",
        "    return majorityCnt(classList) # return the majority class\n",
        "  bestFeat = chooseBestFeatureToSplit(dataSet) # bestFeat should be 0,1,2,3.... index\n",
        "  bestFeatLabel = labels[bestFeat] # find the feature name with index\n",
        "  featLabels.append(bestFeatLabel)\n",
        "  myTree = {bestFeatLabel:{}} # dictionary\n",
        "  del labels[bestFeat] # delete the used feature\n",
        "  featValues = [example[bestFeat] for example in dataSet]\n",
        "  uniqueVals = set(featValues) # Extract unique feature values ​​from the featValues ​​list\n",
        "  for value in uniqueVals:\n",
        "    subLabels = labels[:]\n",
        "    myTree[bestFeatLabel][value] = createTree(splitDataSet(dataSet, bestFeat, value), subLabels, featLabels) # recursion\n",
        "  return myTree\n"
      ],
      "metadata": {
        "id": "-BnAaN0LLTs6"
      },
      "execution_count": 5,
      "outputs": []
    },
    {
      "cell_type": "code",
      "source": [
        "def majorityCnt(classList):\n",
        "  classCount = {} # Used to count the number of times each category appears in classList\n",
        "  for vote in classList:\n",
        "    if vote not in classCount.keys():classCount[vote] = 0 # If not present, initialize to 0\n",
        "    classCount[vote] += 1\n",
        "  sortedClassCount = sorted(classCount.iteritems(), key=operator.itemgetter(1), reverse=True)\n",
        "  return sortedClassCount[0][0] # return the lable, like \"yes\" or \"no\"\n",
        "\n"
      ],
      "metadata": {
        "id": "BtbWSxnGOcwH"
      },
      "execution_count": 7,
      "outputs": []
    },
    {
      "cell_type": "code",
      "source": [
        "def chooseBestFeatureToSplit(dataSet):\n",
        "  numFeatures = len(dataSet[0]) - 1\n",
        "  baseEntropy = calcShannonEnt(dataSet) # the entropy of the whole dataset\n",
        "  bestInfoGain = 0.0 # initialization\n",
        "  bestFeature = -1 # initialization\n",
        "  for i in range(numFeatures):\n",
        "    featList = [example[i] for example in dataSet] # category in the current feature\n",
        "    uniqueVals = set(featList)\n",
        "    newEntropy = 0.0\n",
        "    for value in uniqueVals:\n",
        "      subDataSet = splitDataSet(dataSet, i, value)\n",
        "      prob = len(subDataSet)/float(len(dataSet))\n",
        "      # for example, calculate the entropy sum of the following three values ​​for the weather feature.\n",
        "      newEntropy += prob * calcShannonEnt(subDataSet)\n",
        "    infoGain = baseEntropy - newEntropy # calculate information gain\n",
        "    if infoGain > bestInfoGain:\n",
        "      bestInfoGain = infoGain\n",
        "      bestFeature = i\n",
        "  return bestFeature\n"
      ],
      "metadata": {
        "id": "jf_MW_wmQ8eP"
      },
      "execution_count": 8,
      "outputs": []
    },
    {
      "cell_type": "code",
      "source": [
        "def calcShannonEnt(dataSet):\n",
        "  numEntries = len(dataSet) # the number of all samples\n",
        "  labelCounts = {}\n",
        "  for featVec in dataSet:\n",
        "    currentLabel = featVec[-1]\n",
        "    if currentLabel not in labelCounts.keys():\n",
        "      labelCounts[currentLabel] = 0\n",
        "    labelCounts[currentLabel] += 1\n",
        "\n",
        "  shannonEnt = 0.0\n",
        "  for key in labelCounts:\n",
        "    prob = float(labelCounts[key])/numEntries # Entropy calculation\n",
        "    shannonEnt -= prob * log(prob, 2)\n",
        "  return shannonEnt\n"
      ],
      "metadata": {
        "id": "wCjA1DSJRa9u"
      },
      "execution_count": 9,
      "outputs": []
    },
    {
      "cell_type": "code",
      "source": [
        "'''\n",
        "The data is divided according to the value of a specific feature from\n",
        "the data set. It selects samples whose value of a certain feature in\n",
        "the data set is equal to a given value, removes the feature, and generates\n",
        "a new data subset.\n",
        "for example:\n",
        "  dataSet = [\n",
        "    [1, 1, 'yes'],\n",
        "    [1, 0, 'no'],\n",
        "    [0, 1, 'no'],  # no need\n",
        "    [0, 0, 'no']  # no need\n",
        "  ]\n",
        "=> splitDataSet(dataSet, 0, 1)\n",
        "=> result: [[1, 'yes'], [0, 'no']]\n",
        "'''\n",
        "def splitDataSet(dataSet, axis, value):\n",
        "  retDataSet = []\n",
        "  for featVec in dataSet:\n",
        "    if featVec[axis] == value:\n",
        "      reducedFeatVec = featVec[:axis]\n",
        "      reducedFeatVec.extend(featVec[axis+1:])\n",
        "      retDataSet.append(reducedFeatVec)\n",
        "  return retDataSet"
      ],
      "metadata": {
        "id": "xgCQVjCuZ4j-"
      },
      "execution_count": 10,
      "outputs": []
    },
    {
      "cell_type": "code",
      "source": [
        "decisionNode = dict(boxstyle=\"sawtooth\", fc=\"0.8\")\n",
        "leafNode = dict(boxstyle=\"round4\", fc=\"0.8\")\n",
        "arrow_args = dict(arrowstyle=\"<-\")\n"
      ],
      "metadata": {
        "id": "gm_yUZf-cnIm"
      },
      "execution_count": 11,
      "outputs": []
    },
    {
      "cell_type": "code",
      "source": [
        "'''\n",
        "The function is used to count the number of leaf nodes in a given\n",
        "decision tree. Leaf nodes are terminal nodes in the tree that have\n",
        "no child nodes and usually represent classification results. In decision\n",
        "trees, leaf nodes are often specific classification labels.\n",
        "'''\n",
        "def getNumLeafs(myTree):\n",
        "  numLeafs = 0\n",
        "  firstStr = list(myTree.keys())[0]\n",
        "  secondDict = myTree[firstStr]\n",
        "  for key in secondDict.keys():\n",
        "    if type(secondDict[key]).__name__ == 'dict':\n",
        "      numLeafs += getNumLeafs(secondDict[key])\n",
        "    else:\n",
        "      numLeafs += 1\n",
        "  return numLeafs\n",
        ""
      ],
      "metadata": {
        "id": "Qzqj6GLscvdb"
      },
      "execution_count": 12,
      "outputs": []
    },
    {
      "cell_type": "code",
      "source": [
        "'''\n",
        "The function is used to calculate the maximum depth of a given decision\n",
        "tree. The depth of a decision tree is the number of layers in the\n",
        "longest path from the root node to the farthest leaf node. The depth\n",
        "increases by 1 for each layer down.\n",
        "'''\n",
        "\n",
        "def getTreeDepth(myTree):\n",
        "  maxDepth = 0\n",
        "  firstStr = list(myTree.keys())[0]\n",
        "  secondDict = myTree[firstStr]\n",
        "  for key in secondDict.keys():\n",
        "    if type(secondDict[key]).__name__ == 'dict':\n",
        "      thisDepth = 1 + getTreeDepth(secondDict[key])\n",
        "    else:\n",
        "      thisDepth = 1\n",
        "    if thisDepth > maxDepth:\n",
        "      maxDepth = thisDepth\n",
        "  return maxDepth"
      ],
      "metadata": {
        "id": "zjugfwNmc7Lj"
      },
      "execution_count": 13,
      "outputs": []
    },
    {
      "cell_type": "code",
      "source": [
        "'''\n",
        "The function is used to draw nodes with arrows and borders, and is\n",
        "often used to draw visualization diagrams of decision trees. The\n",
        "function uses the annotate method of matplotlib to mark nodes and\n",
        "draw arrows in the diagram.\n",
        "'''\n",
        "def plotNode(nodeTxt, centerPt, parentPt, nodeType):\n",
        "  arrow_args = dict(arrowstyle=\"<-\")\n",
        "  font = FontProperties(fname=r\"c:\\windows\\fonts\\simsun.ttc\", size=14)\n",
        "  createPlot.ax1.annotate(nodeTxt, xy=parentPt, xycoords='axes fraction', xytext=centerPt, textcoords='axes fraction', va\n",
        "                          =\"center\", ha=\"center\", bbox=nodeType, arrowprops=arrow_args)"
      ],
      "metadata": {
        "id": "_rCelmuIdI8I"
      },
      "execution_count": 14,
      "outputs": []
    },
    {
      "cell_type": "code",
      "source": [
        "'''\n",
        "The function is used to draw text information between two nodes\n",
        "of a decision tree, usually used to display the association\n",
        "information or decision conditions between nodes.\n",
        "'''\n",
        "def plotMidText(cntrPt, parentPt, txtString):\n",
        "  xMid = (parentPt[0] - cntrPt[0])/2.0 + cntrPt[0]\n",
        "  yMid = (parentPt[1] - cntrPt[1])/2.0 + cntrPt[1]\n",
        "  createPlot.ax1.text(xMid, yMid, txtString, va=\"center\", ha=\"center\", rotation=30)\n"
      ],
      "metadata": {
        "id": "Rhrmi71pdXm0"
      },
      "execution_count": 15,
      "outputs": []
    },
    {
      "cell_type": "code",
      "source": [
        "'''\n",
        "The function is used to recursively draw a graphical visualization\n",
        "of the entire decision tree. It traverses the entire tree structure\n",
        "by recursively calling itself and draws node boxes and connecting\n",
        "arrows at each node of the tree.\n",
        "'''\n",
        "def plotTree(myTree, parentPt, nodeTxt):\n",
        "  decisionNode = dict(boxstyle=\"sawtooth\", fc=\"0.8\")\n",
        "  leafNode = dict(boxstyle=\"round4\", fc=\"0.8\")\n",
        "  numLeafs = getNumLeafs(myTree)\n",
        "  depth = getTreeDepth(myTree)\n",
        "  firstStr = list(myTree.keys())[0]\n",
        "  cntrPt = (plotTree.xOff + (1.0 + float(numLeafs))/2.0/plotTree.totalW, plotTree.yOff)\n",
        "  plotMidText(cntrPt, parentPt, nodeTxt)\n",
        "  plotNode(firstStr, cntrPt, parentPt, decisionNode)\n",
        "  secondDict = myTree[firstStr]\n",
        "  plotTree.yOff = plotTree.yOff - 1.0/plotTree.totalD\n",
        "  for key in secondDict.keys():\n",
        "    if type(secondDict[key]).__name__ == 'dict':\n",
        "      plotTree(secondDict[key], cntrPt, str(key))\n",
        "    else:\n",
        "      plotTree.xOff = plotTree.xOff + 1.0/plotTree.totalW\n",
        "      plotNode(secondDict[key], (plotTree.xOff, plotTree.yOff), cntrPt, leafNode)\n",
        "      plotMidText((plotTree.xOff, plotTree.yOff), cntrPt, str(key))\n",
        "  plotTree.yOff = plotTree.yOff + 1.0/plotTree.totalD\n"
      ],
      "metadata": {
        "id": "kWhSidohdjVA"
      },
      "execution_count": 16,
      "outputs": []
    },
    {
      "cell_type": "code",
      "source": [
        "'''\n",
        "The function is used to initialize the drawing interface and call\n",
        "the plotTree function to draw the decision tree. It sets the basic\n",
        "properties and parameters of the graph, calculates the width and depth\n",
        "of the entire tree, and recursively draws all nodes and leaf nodes\n",
        "of the decision tree by calling plotTree.\n",
        "'''\n",
        "\n",
        "def createPlot(inTree):\n",
        "  fig = plt.figure(1, facecolor='white')\n",
        "  fig.clf()\n",
        "  axprops = dict(xticks=[], yticks=[])\n",
        "  createPlot.ax1 = plt.subplot(111, frameon=False, **axprops)\n",
        "  plotTree.totalW = float(getNumLeafs(inTree))\n",
        "  plotTree.totalD = float(getTreeDepth(inTree))\n",
        "  plotTree.xOff = -0.5/plotTree.totalW\n",
        "  plotTree.yOff = 1.0\n",
        "  plotTree(inTree, (0.5, 1.0), '')\n",
        "  plt.show()"
      ],
      "metadata": {
        "id": "f1oaV2OHdz1Z"
      },
      "execution_count": 17,
      "outputs": []
    },
    {
      "cell_type": "code",
      "source": [
        "if __name__ == '__main__':\n",
        "  dataSet, labels = createDataSet()\n",
        "  featLabels = []\n",
        "  myTree = createTree(dataSet, labels, featLabels)\n",
        "  print(myTree)\n",
        "  createPlot(myTree)\n",
        ""
      ],
      "metadata": {
        "colab": {
          "base_uri": "https://localhost:8080/",
          "height": 438
        },
        "id": "QSZqjFkBb_gs",
        "outputId": "30ffb653-6890-45c4-846e-4e130f340d4d"
      },
      "execution_count": 18,
      "outputs": [
        {
          "output_type": "stream",
          "name": "stdout",
          "text": [
            "{'F3-HOME': {0: {'F2-WORK': {0: 'no', 1: 'yes'}}, 1: 'yes'}}\n"
          ]
        },
        {
          "output_type": "display_data",
          "data": {
            "text/plain": [
              "<Figure size 640x480 with 1 Axes>"
            ],
            "image/png": "[encoded data removed]"
          },
          "metadata": {}
        }
      ]
    }
  ]
}